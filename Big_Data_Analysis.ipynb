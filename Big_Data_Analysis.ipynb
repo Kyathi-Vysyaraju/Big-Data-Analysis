{
  "nbformat": 4,
  "nbformat_minor": 0,
  "metadata": {
    "colab": {
      "provenance": []
    },
    "kernelspec": {
      "name": "python3",
      "display_name": "Python 3"
    },
    "language_info": {
      "name": "python"
    }
  },
  "cells": [
    {
      "cell_type": "code",
      "execution_count": 1,
      "metadata": {
        "colab": {
          "base_uri": "https://localhost:8080/",
          "height": 72
        },
        "id": "JRzn0k_Hq69B",
        "outputId": "dc67cb6c-c502-4f86-f8d7-635591f9899b"
      },
      "outputs": [
        {
          "output_type": "display_data",
          "data": {
            "text/plain": [
              "<IPython.core.display.HTML object>"
            ],
            "text/html": [
              "\n",
              "     <input type=\"file\" id=\"files-dd1daff8-866d-4fca-9b7f-4e239fd90a79\" name=\"files[]\" multiple disabled\n",
              "        style=\"border:none\" />\n",
              "     <output id=\"result-dd1daff8-866d-4fca-9b7f-4e239fd90a79\">\n",
              "      Upload widget is only available when the cell has been executed in the\n",
              "      current browser session. Please rerun this cell to enable.\n",
              "      </output>\n",
              "      <script>// Copyright 2017 Google LLC\n",
              "//\n",
              "// Licensed under the Apache License, Version 2.0 (the \"License\");\n",
              "// you may not use this file except in compliance with the License.\n",
              "// You may obtain a copy of the License at\n",
              "//\n",
              "//      http://www.apache.org/licenses/LICENSE-2.0\n",
              "//\n",
              "// Unless required by applicable law or agreed to in writing, software\n",
              "// distributed under the License is distributed on an \"AS IS\" BASIS,\n",
              "// WITHOUT WARRANTIES OR CONDITIONS OF ANY KIND, either express or implied.\n",
              "// See the License for the specific language governing permissions and\n",
              "// limitations under the License.\n",
              "\n",
              "/**\n",
              " * @fileoverview Helpers for google.colab Python module.\n",
              " */\n",
              "(function(scope) {\n",
              "function span(text, styleAttributes = {}) {\n",
              "  const element = document.createElement('span');\n",
              "  element.textContent = text;\n",
              "  for (const key of Object.keys(styleAttributes)) {\n",
              "    element.style[key] = styleAttributes[key];\n",
              "  }\n",
              "  return element;\n",
              "}\n",
              "\n",
              "// Max number of bytes which will be uploaded at a time.\n",
              "const MAX_PAYLOAD_SIZE = 100 * 1024;\n",
              "\n",
              "function _uploadFiles(inputId, outputId) {\n",
              "  const steps = uploadFilesStep(inputId, outputId);\n",
              "  const outputElement = document.getElementById(outputId);\n",
              "  // Cache steps on the outputElement to make it available for the next call\n",
              "  // to uploadFilesContinue from Python.\n",
              "  outputElement.steps = steps;\n",
              "\n",
              "  return _uploadFilesContinue(outputId);\n",
              "}\n",
              "\n",
              "// This is roughly an async generator (not supported in the browser yet),\n",
              "// where there are multiple asynchronous steps and the Python side is going\n",
              "// to poll for completion of each step.\n",
              "// This uses a Promise to block the python side on completion of each step,\n",
              "// then passes the result of the previous step as the input to the next step.\n",
              "function _uploadFilesContinue(outputId) {\n",
              "  const outputElement = document.getElementById(outputId);\n",
              "  const steps = outputElement.steps;\n",
              "\n",
              "  const next = steps.next(outputElement.lastPromiseValue);\n",
              "  return Promise.resolve(next.value.promise).then((value) => {\n",
              "    // Cache the last promise value to make it available to the next\n",
              "    // step of the generator.\n",
              "    outputElement.lastPromiseValue = value;\n",
              "    return next.value.response;\n",
              "  });\n",
              "}\n",
              "\n",
              "/**\n",
              " * Generator function which is called between each async step of the upload\n",
              " * process.\n",
              " * @param {string} inputId Element ID of the input file picker element.\n",
              " * @param {string} outputId Element ID of the output display.\n",
              " * @return {!Iterable<!Object>} Iterable of next steps.\n",
              " */\n",
              "function* uploadFilesStep(inputId, outputId) {\n",
              "  const inputElement = document.getElementById(inputId);\n",
              "  inputElement.disabled = false;\n",
              "\n",
              "  const outputElement = document.getElementById(outputId);\n",
              "  outputElement.innerHTML = '';\n",
              "\n",
              "  const pickedPromise = new Promise((resolve) => {\n",
              "    inputElement.addEventListener('change', (e) => {\n",
              "      resolve(e.target.files);\n",
              "    });\n",
              "  });\n",
              "\n",
              "  const cancel = document.createElement('button');\n",
              "  inputElement.parentElement.appendChild(cancel);\n",
              "  cancel.textContent = 'Cancel upload';\n",
              "  const cancelPromise = new Promise((resolve) => {\n",
              "    cancel.onclick = () => {\n",
              "      resolve(null);\n",
              "    };\n",
              "  });\n",
              "\n",
              "  // Wait for the user to pick the files.\n",
              "  const files = yield {\n",
              "    promise: Promise.race([pickedPromise, cancelPromise]),\n",
              "    response: {\n",
              "      action: 'starting',\n",
              "    }\n",
              "  };\n",
              "\n",
              "  cancel.remove();\n",
              "\n",
              "  // Disable the input element since further picks are not allowed.\n",
              "  inputElement.disabled = true;\n",
              "\n",
              "  if (!files) {\n",
              "    return {\n",
              "      response: {\n",
              "        action: 'complete',\n",
              "      }\n",
              "    };\n",
              "  }\n",
              "\n",
              "  for (const file of files) {\n",
              "    const li = document.createElement('li');\n",
              "    li.append(span(file.name, {fontWeight: 'bold'}));\n",
              "    li.append(span(\n",
              "        `(${file.type || 'n/a'}) - ${file.size} bytes, ` +\n",
              "        `last modified: ${\n",
              "            file.lastModifiedDate ? file.lastModifiedDate.toLocaleDateString() :\n",
              "                                    'n/a'} - `));\n",
              "    const percent = span('0% done');\n",
              "    li.appendChild(percent);\n",
              "\n",
              "    outputElement.appendChild(li);\n",
              "\n",
              "    const fileDataPromise = new Promise((resolve) => {\n",
              "      const reader = new FileReader();\n",
              "      reader.onload = (e) => {\n",
              "        resolve(e.target.result);\n",
              "      };\n",
              "      reader.readAsArrayBuffer(file);\n",
              "    });\n",
              "    // Wait for the data to be ready.\n",
              "    let fileData = yield {\n",
              "      promise: fileDataPromise,\n",
              "      response: {\n",
              "        action: 'continue',\n",
              "      }\n",
              "    };\n",
              "\n",
              "    // Use a chunked sending to avoid message size limits. See b/62115660.\n",
              "    let position = 0;\n",
              "    do {\n",
              "      const length = Math.min(fileData.byteLength - position, MAX_PAYLOAD_SIZE);\n",
              "      const chunk = new Uint8Array(fileData, position, length);\n",
              "      position += length;\n",
              "\n",
              "      const base64 = btoa(String.fromCharCode.apply(null, chunk));\n",
              "      yield {\n",
              "        response: {\n",
              "          action: 'append',\n",
              "          file: file.name,\n",
              "          data: base64,\n",
              "        },\n",
              "      };\n",
              "\n",
              "      let percentDone = fileData.byteLength === 0 ?\n",
              "          100 :\n",
              "          Math.round((position / fileData.byteLength) * 100);\n",
              "      percent.textContent = `${percentDone}% done`;\n",
              "\n",
              "    } while (position < fileData.byteLength);\n",
              "  }\n",
              "\n",
              "  // All done.\n",
              "  yield {\n",
              "    response: {\n",
              "      action: 'complete',\n",
              "    }\n",
              "  };\n",
              "}\n",
              "\n",
              "scope.google = scope.google || {};\n",
              "scope.google.colab = scope.google.colab || {};\n",
              "scope.google.colab._files = {\n",
              "  _uploadFiles,\n",
              "  _uploadFilesContinue,\n",
              "};\n",
              "})(self);\n",
              "</script> "
            ]
          },
          "metadata": {}
        },
        {
          "output_type": "stream",
          "name": "stdout",
          "text": [
            "Saving archive.zip to archive.zip\n"
          ]
        }
      ],
      "source": [
        "from google.colab import files\n",
        "uploaded = files.upload()"
      ]
    },
    {
      "cell_type": "code",
      "source": [
        "!pip install pyspark"
      ],
      "metadata": {
        "colab": {
          "base_uri": "https://localhost:8080/"
        },
        "id": "8ABOLu2Cr3p0",
        "outputId": "b3d9206e-78d0-48a1-ac7f-11409a28ce75"
      },
      "execution_count": 2,
      "outputs": [
        {
          "output_type": "stream",
          "name": "stdout",
          "text": [
            "Requirement already satisfied: pyspark in /usr/local/lib/python3.11/dist-packages (3.5.5)\n",
            "Requirement already satisfied: py4j==0.10.9.7 in /usr/local/lib/python3.11/dist-packages (from pyspark) (0.10.9.7)\n"
          ]
        }
      ]
    },
    {
      "cell_type": "code",
      "source": [
        "import zipfile\n",
        "import os\n",
        "\n",
        "# Get the uploaded file name\n",
        "zip_filename = list(uploaded.keys())[0]\n",
        "\n",
        "# Extract the ZIP file\n",
        "with zipfile.ZipFile(zip_filename, 'r') as zip_ref:\n",
        "    zip_ref.extractall(\"extracted_data\")\n",
        "\n",
        "# List extracted files\n",
        "os.listdir(\"extracted_data\")"
      ],
      "metadata": {
        "colab": {
          "base_uri": "https://localhost:8080/"
        },
        "id": "LY_K3htOsA8A",
        "outputId": "8d44569a-5667-4b90-89f6-0c7c07eebe04"
      },
      "execution_count": 3,
      "outputs": [
        {
          "output_type": "execute_result",
          "data": {
            "text/plain": [
              "['surv_variants.csv']"
            ]
          },
          "metadata": {},
          "execution_count": 3
        }
      ]
    },
    {
      "cell_type": "code",
      "source": [
        "from pyspark.sql import SparkSession\n",
        "\n",
        "# Start Spark session\n",
        "spark = SparkSession.builder.appName(\"ZipFileAnalysis\").getOrCreate()\n",
        "\n",
        "# Find the extracted CSV file\n",
        "csv_files = [f for f in os.listdir(\"extracted_data\") if f.endswith(\".csv\")]\n",
        "csv_path = f\"extracted_data/{csv_files[0]}\"  # Load the first CSV file\n",
        "\n",
        "# Load CSV file into PySpark DataFrame\n",
        "spark_df = spark.read.csv(csv_path, header=True, inferSchema=True)\n",
        "\n",
        "# Show first few rows\n",
        "spark_df.show(5)"
      ],
      "metadata": {
        "colab": {
          "base_uri": "https://localhost:8080/"
        },
        "id": "XwKJHzT8sFZS",
        "outputId": "9e9a1555-5539-4670-e61a-0e4b314a88ed"
      },
      "execution_count": 4,
      "outputs": [
        {
          "output_type": "stream",
          "name": "stdout",
          "text": [
            "+---------+----------+--------+----------+-------+------------+--------+--------+--------------------+------------------+------------------+------------------+\n",
            "|  Country| first_seq|num_seqs|  last_seq|variant|censure_date|duration|censored|      mortality_rate|       total_cases|      total_deaths|       growth_rate|\n",
            "+---------+----------+--------+----------+-------+------------+--------+--------+--------------------+------------------+------------------+------------------+\n",
            "|    China|2019-10-22|       3|2020-06-03| S.Q677|  2020-06-21|     225|    true| 0.05298270465397884|18259.460122699387| 967.4355828220858| 16447.43070611852|\n",
            "|      USA|2020-03-03|   26022|2021-11-19| S.Q677|  2020-11-01|     626|   false|0.016111465270624598|256577.59623403364| 4133.841030944974| 84748.74587601596|\n",
            "|   Brazil|2020-03-09|    1553|2021-11-12| S.Q677|  2020-11-07|     613|   false|0.027845990904288728| 101550.1404656567|2827.7642877359194| 42356.90742557735|\n",
            "|Australia|2020-03-20|      88|2021-11-14| S.Q677|  2020-11-18|     604|   false|0.009905405476304151| 1402.239578652566|13.889751601475552|1227.1224997033116|\n",
            "|   Sweden|2020-03-20|     810|2021-11-19| S.Q677|  2020-11-18|     609|   false| 0.01271099109557639|1659.1487275628378| 21.08942470228813| 2521.042925065023|\n",
            "+---------+----------+--------+----------+-------+------------+--------+--------+--------------------+------------------+------------------+------------------+\n",
            "only showing top 5 rows\n",
            "\n"
          ]
        }
      ]
    },
    {
      "cell_type": "code",
      "source": [
        "spark_df.describe().show()"
      ],
      "metadata": {
        "colab": {
          "base_uri": "https://localhost:8080/"
        },
        "id": "rZsu5SAusRIk",
        "outputId": "324bf801-5c6e-48e6-a59f-5014395be483"
      },
      "execution_count": 5,
      "outputs": [
        {
          "output_type": "stream",
          "name": "stdout",
          "text": [
            "+-------+-----------+-----------------+-------+------------------+--------------------+--------------------+------------------+------------------+\n",
            "|summary|    Country|         num_seqs|variant|          duration|      mortality_rate|         total_cases|      total_deaths|       growth_rate|\n",
            "+-------+-----------+-----------------+-------+------------------+--------------------+--------------------+------------------+------------------+\n",
            "|  count|       4113|             4113|   4113|              4113|                4113|                4113|              4113|              3585|\n",
            "|   mean|       NULL|4216.427911500122|   NULL|182.55263797714562|0.019360191245763343|  119831.57411797598|2118.2666133071757|11682.192503622668|\n",
            "| stddev|       NULL|39719.29351739689|   NULL|161.95094826351848|0.014504036853558729|  1027564.1473311749|15801.688542051683| 41524.51381621186|\n",
            "|    min|Afghanistan|                1|20A.EU1|                 0|                 0.0|2.015925813930047...|               0.0|               0.0|\n",
            "|    max|   Zimbabwe|          1289311|S.Y453F|               669| 0.14533049420840813| 3.597978302681263E7| 513790.2555459665| 600412.3999999998|\n",
            "+-------+-----------+-----------------+-------+------------------+--------------------+--------------------+------------------+------------------+\n",
            "\n"
          ]
        }
      ]
    },
    {
      "cell_type": "code",
      "source": [
        "from pyspark.sql.functions import col, count\n",
        "\n",
        "missing_values = spark_df.select([count(col(c).isNull().cast(\"int\")).alias(c) for c in spark_df.columns])\n",
        "missing_values.show()\n"
      ],
      "metadata": {
        "colab": {
          "base_uri": "https://localhost:8080/"
        },
        "id": "-XsUUJIcsVDO",
        "outputId": "5d070dd3-514c-428a-958f-a9540749d688"
      },
      "execution_count": 6,
      "outputs": [
        {
          "output_type": "stream",
          "name": "stdout",
          "text": [
            "+-------+---------+--------+--------+-------+------------+--------+--------+--------------+-----------+------------+-----------+\n",
            "|Country|first_seq|num_seqs|last_seq|variant|censure_date|duration|censored|mortality_rate|total_cases|total_deaths|growth_rate|\n",
            "+-------+---------+--------+--------+-------+------------+--------+--------+--------------+-----------+------------+-----------+\n",
            "|   4113|     4113|    4113|    4113|   4113|        4113|    4113|    4113|          4113|       4113|        4113|       4113|\n",
            "+-------+---------+--------+--------+-------+------------+--------+--------+--------------+-----------+------------+-----------+\n",
            "\n"
          ]
        }
      ]
    },
    {
      "cell_type": "code",
      "source": [
        "spark_df.select(\"Country\").distinct().show()"
      ],
      "metadata": {
        "colab": {
          "base_uri": "https://localhost:8080/"
        },
        "id": "1rbUVBCksahK",
        "outputId": "b8eee212-7adf-4363-b9e7-8d274e8ac8c5"
      },
      "execution_count": 7,
      "outputs": [
        {
          "output_type": "stream",
          "name": "stdout",
          "text": [
            "+-------------+\n",
            "|      Country|\n",
            "+-------------+\n",
            "|Côte d'Ivoire|\n",
            "|       Russia|\n",
            "|     Paraguay|\n",
            "|      Senegal|\n",
            "|       Sweden|\n",
            "|   Cabo Verde|\n",
            "|       Guyana|\n",
            "|  Philippines|\n",
            "|     Djibouti|\n",
            "|     Malaysia|\n",
            "|    Singapore|\n",
            "|         Fiji|\n",
            "|       Turkey|\n",
            "|       Malawi|\n",
            "|         Iraq|\n",
            "|      Germany|\n",
            "|      Comoros|\n",
            "|  Afghanistan|\n",
            "|     Cambodia|\n",
            "|       Rwanda|\n",
            "+-------------+\n",
            "only showing top 20 rows\n",
            "\n"
          ]
        }
      ]
    },
    {
      "cell_type": "code",
      "source": [
        "from pyspark.sql.functions import col\n",
        "\n",
        "spark_df.groupBy(\"num_seqs\").count().orderBy(col(\"count\").desc()).show()"
      ],
      "metadata": {
        "colab": {
          "base_uri": "https://localhost:8080/"
        },
        "id": "NJBVHbq1sjDG",
        "outputId": "1bfd1740-e52f-4373-e8d1-c8c9a4b80009"
      },
      "execution_count": 8,
      "outputs": [
        {
          "output_type": "stream",
          "name": "stdout",
          "text": [
            "+--------+-----+\n",
            "|num_seqs|count|\n",
            "+--------+-----+\n",
            "|       1|  480|\n",
            "|       2|  240|\n",
            "|       3|  182|\n",
            "|       4|  148|\n",
            "|       5|  118|\n",
            "|       6|   91|\n",
            "|       8|   76|\n",
            "|       7|   75|\n",
            "|      10|   57|\n",
            "|       9|   48|\n",
            "|      11|   47|\n",
            "|      12|   42|\n",
            "|      13|   37|\n",
            "|      14|   36|\n",
            "|      19|   34|\n",
            "|      15|   34|\n",
            "|      22|   29|\n",
            "|      16|   28|\n",
            "|      28|   26|\n",
            "|      21|   26|\n",
            "+--------+-----+\n",
            "only showing top 20 rows\n",
            "\n"
          ]
        }
      ]
    },
    {
      "cell_type": "code",
      "source": [
        "spark_df = spark_df.drop(\"first_seq\", \"last_seq\")\n",
        "spark_df.show(5)\n"
      ],
      "metadata": {
        "colab": {
          "base_uri": "https://localhost:8080/"
        },
        "id": "rjbYQDVjtt7v",
        "outputId": "4c9a7874-7782-4ad5-c80c-989f65bddbd0"
      },
      "execution_count": 13,
      "outputs": [
        {
          "output_type": "stream",
          "name": "stdout",
          "text": [
            "+---------+--------+-------+------------+--------+--------+--------------------+------------------+------------------+------------------+\n",
            "|  Country|num_seqs|variant|censure_date|duration|censored|      mortality_rate|       total_cases|      total_deaths|       growth_rate|\n",
            "+---------+--------+-------+------------+--------+--------+--------------------+------------------+------------------+------------------+\n",
            "|    China|       3| S.Q677|  2020-06-21|     225|    true| 0.05298270465397884|18259.460122699387| 967.4355828220858| 16447.43070611852|\n",
            "|      USA|   26022| S.Q677|  2020-11-01|     626|   false|0.016111465270624598|256577.59623403364| 4133.841030944974| 84748.74587601596|\n",
            "|   Brazil|    1553| S.Q677|  2020-11-07|     613|   false|0.027845990904288728| 101550.1404656567|2827.7642877359194| 42356.90742557735|\n",
            "|Australia|      88| S.Q677|  2020-11-18|     604|   false|0.009905405476304151| 1402.239578652566|13.889751601475552|1227.1224997033116|\n",
            "|   Sweden|     810| S.Q677|  2020-11-18|     609|   false| 0.01271099109557639|1659.1487275628378| 21.08942470228813| 2521.042925065023|\n",
            "+---------+--------+-------+------------+--------+--------+--------------------+------------------+------------------+------------------+\n",
            "only showing top 5 rows\n",
            "\n"
          ]
        }
      ]
    },
    {
      "cell_type": "code",
      "source": [
        "print(f\"Total rows before removing duplicates: {spark_df.count()}\")\n",
        "\n",
        "spark_df = spark_df.dropDuplicates()\n",
        "\n",
        "print(f\"Total rows after removing duplicates: {spark_df.count()}\")\n"
      ],
      "metadata": {
        "colab": {
          "base_uri": "https://localhost:8080/"
        },
        "id": "oUzFZLF3uH_R",
        "outputId": "a3b51886-89f6-424d-df8e-d4f721982946"
      },
      "execution_count": 14,
      "outputs": [
        {
          "output_type": "stream",
          "name": "stdout",
          "text": [
            "Total rows before removing duplicates: 4113\n",
            "Total rows after removing duplicates: 4113\n"
          ]
        }
      ]
    },
    {
      "cell_type": "code",
      "source": [
        "csv_path = \"output\"\n",
        "\n",
        "# Overwrite existing files\n",
        "spark_df.coalesce(1).write.mode(\"overwrite\").csv(csv_path, header=True)\n",
        "\n"
      ],
      "metadata": {
        "id": "rxpv3cILtHRw"
      },
      "execution_count": 16,
      "outputs": []
    },
    {
      "cell_type": "code",
      "source": [
        "import os\n",
        "import shutil\n",
        "\n",
        "# Define directory where PySpark saved the files\n",
        "csv_folder = \"output\"\n",
        "\n",
        "# Find the actual CSV file inside the folder\n",
        "files = os.listdir(csv_folder)\n",
        "csv_file = [f for f in files if f.startswith(\"part\")][0]  # Find 'part' file\n",
        "\n",
        "# Rename it to output.csv\n",
        "shutil.move(f\"{csv_folder}/{csv_file}\", \"output.csv\")\n"
      ],
      "metadata": {
        "colab": {
          "base_uri": "https://localhost:8080/",
          "height": 36
        },
        "id": "5OZTtZuStKjT",
        "outputId": "061b77cb-d463-49e4-ac58-8d089f592111"
      },
      "execution_count": 17,
      "outputs": [
        {
          "output_type": "execute_result",
          "data": {
            "text/plain": [
              "'output.csv'"
            ],
            "application/vnd.google.colaboratory.intrinsic+json": {
              "type": "string"
            }
          },
          "metadata": {},
          "execution_count": 17
        }
      ]
    },
    {
      "cell_type": "code",
      "source": [
        "from google.colab import files\n",
        "files.download(\"output.csv\")\n"
      ],
      "metadata": {
        "colab": {
          "base_uri": "https://localhost:8080/",
          "height": 17
        },
        "id": "JxGOJxFYtRUx",
        "outputId": "acf73bd7-eaed-4179-8408-d7a38c456337"
      },
      "execution_count": 18,
      "outputs": [
        {
          "output_type": "display_data",
          "data": {
            "text/plain": [
              "<IPython.core.display.Javascript object>"
            ],
            "application/javascript": [
              "\n",
              "    async function download(id, filename, size) {\n",
              "      if (!google.colab.kernel.accessAllowed) {\n",
              "        return;\n",
              "      }\n",
              "      const div = document.createElement('div');\n",
              "      const label = document.createElement('label');\n",
              "      label.textContent = `Downloading \"${filename}\": `;\n",
              "      div.appendChild(label);\n",
              "      const progress = document.createElement('progress');\n",
              "      progress.max = size;\n",
              "      div.appendChild(progress);\n",
              "      document.body.appendChild(div);\n",
              "\n",
              "      const buffers = [];\n",
              "      let downloaded = 0;\n",
              "\n",
              "      const channel = await google.colab.kernel.comms.open(id);\n",
              "      // Send a message to notify the kernel that we're ready.\n",
              "      channel.send({})\n",
              "\n",
              "      for await (const message of channel.messages) {\n",
              "        // Send a message to notify the kernel that we're ready.\n",
              "        channel.send({})\n",
              "        if (message.buffers) {\n",
              "          for (const buffer of message.buffers) {\n",
              "            buffers.push(buffer);\n",
              "            downloaded += buffer.byteLength;\n",
              "            progress.value = downloaded;\n",
              "          }\n",
              "        }\n",
              "      }\n",
              "      const blob = new Blob(buffers, {type: 'application/binary'});\n",
              "      const a = document.createElement('a');\n",
              "      a.href = window.URL.createObjectURL(blob);\n",
              "      a.download = filename;\n",
              "      div.appendChild(a);\n",
              "      a.click();\n",
              "      div.remove();\n",
              "    }\n",
              "  "
            ]
          },
          "metadata": {}
        },
        {
          "output_type": "display_data",
          "data": {
            "text/plain": [
              "<IPython.core.display.Javascript object>"
            ],
            "application/javascript": [
              "download(\"download_9646f15e-21c6-4f88-9b5e-2c323618b4e6\", \"output.csv\", 469185)"
            ]
          },
          "metadata": {}
        }
      ]
    }
  ]
}